{
 "cells": [
  {
   "cell_type": "code",
   "execution_count": 1,
   "metadata": {},
   "outputs": [],
   "source": [
    "# Author : Suman Debnath\n",
    "# Email : debnath.1@iitj.ac.in\n",
    "# Roll No : MT19AIE321\n",
    "# M.Tech-AI(2020) \n",
    "# Date : 1st Oct 2020\n",
    "# DSP Lab 1 "
   ]
  },
  {
   "cell_type": "markdown",
   "metadata": {},
   "source": [
    "# If you want to run via console. \n",
    "You may like to use the .py file in this zip folder and run like this :\n",
    "\n",
    "**Example 1**\n",
    "`$ python DSP_Lab1_MT19AIE321.py 10 5 true`         \n",
    "\n",
    "It will create matrix of size 10x10 and random numbers would range from (0, 5)\n",
    "\n",
    "**Example 2**\n",
    "`$ python DSP_Lab1_MT19AIE321.py 10 100 true`        \n",
    "\n",
    "It will create matrix of size 10x10 and random numbers would range from (0, 100)\n",
    "\n",
    "**Example 3**\n",
    "`$ python DSP_Lab1_MT19AIE321.py 100 500 false`      \n",
    "\n",
    "It will create matrix of size 100x100 and random numbers would range from (0, 500)\n",
    "\n",
    "**Note**\n",
    "\n",
    "`true`  -> it will print the matrix on console \n",
    "\n",
    "`false` -> it will not print the matrix on console (default is false)"
   ]
  },
  {
   "cell_type": "markdown",
   "metadata": {},
   "source": [
    "# Importing all the modules"
   ]
  },
  {
   "cell_type": "code",
   "execution_count": 2,
   "metadata": {},
   "outputs": [],
   "source": [
    "import random                       # Will be used to generate a random number\n",
    "import sys                          # Will be used to take user input for N, to create NxN matrix\n",
    "from pprint import pprint as pp     # Will be used to print the matrix on console (if user wants) "
   ]
  },
  {
   "cell_type": "code",
   "execution_count": 3,
   "metadata": {},
   "outputs": [],
   "source": [
    "def createMatrix(num, limit):  \n",
    "    \n",
    "    matrix = [[random.randint(0,limit) for col in range(num)] for row in range(num)]\n",
    "    return matrix"
   ]
  },
  {
   "cell_type": "code",
   "execution_count": 4,
   "metadata": {},
   "outputs": [],
   "source": [
    "def myInsersionSort(a):\n",
    "    no_elements = len(a)\n",
    "    for j in range(1,no_elements):\n",
    "        k = a[j]\n",
    "        i = j-1\n",
    "\n",
    "        while i >= 0 and a[i] > k:\n",
    "            a[i+1] = a[i]\n",
    "            i = i-1\n",
    "\n",
    "        a[i+1] = k\n",
    "        \n",
    "    return a"
   ]
  },
  {
   "cell_type": "code",
   "execution_count": 5,
   "metadata": {},
   "outputs": [],
   "source": [
    "def sortMatrixByRow(matrix):\n",
    "    num = len(matrix)\n",
    "    for i in range(num):\n",
    "        matrix[i] = myInsersionSort(matrix[i])\n",
    "        \n",
    "    return matrix"
   ]
  },
  {
   "cell_type": "code",
   "execution_count": 6,
   "metadata": {},
   "outputs": [],
   "source": [
    "def transposeMatrix(matrix):\n",
    "    num = len(matrix)\n",
    "    matrix_transposed = [[ matrix[col][row] for col in range(num)] for row in range(num)]\n",
    "    \n",
    "    return matrix_transposed"
   ]
  },
  {
   "cell_type": "code",
   "execution_count": 7,
   "metadata": {},
   "outputs": [],
   "source": [
    "def myBinarySearch(a, search_element):   \n",
    "    left = 0\n",
    "    right = len(a)-1\n",
    "    middle = (left + right)//2 \n",
    "    \n",
    "    while left <= right:\n",
    "        if search_element == a[middle]:\n",
    "            found_flag = True\n",
    "            break\n",
    "        elif search_element < a[middle]:\n",
    "            right = middle - 1\n",
    "            middle = (left + right)//2 \n",
    "        elif search_element > a[middle]:\n",
    "            left = middle + 1\n",
    "            middle = (left + right)//2 \n",
    "    else:\n",
    "        found_flag = False\n",
    "        \n",
    "    return found_flag"
   ]
  },
  {
   "cell_type": "code",
   "execution_count": 8,
   "metadata": {},
   "outputs": [],
   "source": [
    "def getSmallestCommonNumber(matrix):\n",
    "    \n",
    "    first_column = [matrix[row][0] for row in range(len(matrix))]\n",
    "    common_elements = []\n",
    "\n",
    "    for element in first_column:\n",
    "\n",
    "        for i in range(1, len(matrix)):\n",
    "            a = [matrix[row][i] for row in range(len(matrix))]\n",
    "            if myBinarySearch(a, element):\n",
    "                if i == len(matrix)-1:\n",
    "                    common_elements.append(element)\n",
    "                continue\n",
    "            else:\n",
    "                break\n",
    "\n",
    "    if common_elements:\n",
    "        smallest_common_ele = myInsersionSort(common_elements)[0]\n",
    "    else:\n",
    "        smallest_common_ele = -1\n",
    "    \n",
    "    return smallest_common_ele"
   ]
  },
  {
   "cell_type": "markdown",
   "metadata": {},
   "source": [
    "# Step 1 - Initial randomly generated Matrix"
   ]
  },
  {
   "cell_type": "markdown",
   "metadata": {},
   "source": [
    "Take the input N from the user and create a 2-D matrix containing N^2 elements.\n",
    "The input to the matrix should be done automatically with a random function generating\n",
    "numbers within the range [0,100].\n",
    "\n",
    "100 < N < 1000"
   ]
  },
  {
   "cell_type": "markdown",
   "metadata": {},
   "source": [
    "### Take the user input for N"
   ]
  },
  {
   "cell_type": "code",
   "execution_count": 9,
   "metadata": {},
   "outputs": [
    {
     "name": "stdout",
     "output_type": "stream",
     "text": [
      "Enter N : 10\n"
     ]
    }
   ],
   "source": [
    "num = int(input(\"Enter N : \"))"
   ]
  },
  {
   "cell_type": "code",
   "execution_count": 10,
   "metadata": {},
   "outputs": [],
   "source": [
    "limit = 5"
   ]
  },
  {
   "cell_type": "code",
   "execution_count": 11,
   "metadata": {},
   "outputs": [],
   "source": [
    "matrix = createMatrix(num, limit)"
   ]
  },
  {
   "cell_type": "code",
   "execution_count": 12,
   "metadata": {},
   "outputs": [
    {
     "data": {
      "text/plain": [
       "[[5, 4, 1, 4, 0, 1, 4, 4, 5, 0],\n",
       " [2, 0, 3, 3, 2, 1, 2, 1, 1, 4],\n",
       " [5, 0, 3, 5, 0, 2, 1, 0, 1, 1],\n",
       " [2, 4, 1, 1, 4, 4, 2, 2, 2, 1],\n",
       " [3, 2, 3, 5, 1, 5, 5, 2, 3, 5],\n",
       " [3, 4, 1, 1, 3, 2, 1, 0, 0, 1],\n",
       " [1, 5, 4, 4, 0, 2, 3, 3, 1, 2],\n",
       " [2, 3, 2, 2, 0, 1, 1, 4, 5, 1],\n",
       " [5, 4, 5, 2, 3, 0, 1, 4, 2, 4],\n",
       " [1, 0, 1, 3, 2, 0, 5, 1, 5, 1]]"
      ]
     },
     "execution_count": 12,
     "metadata": {},
     "output_type": "execute_result"
    }
   ],
   "source": [
    "matrix"
   ]
  },
  {
   "cell_type": "markdown",
   "metadata": {},
   "source": [
    "# Step 2 - Sorted Matrix (Row wise)"
   ]
  },
  {
   "cell_type": "code",
   "execution_count": 13,
   "metadata": {},
   "outputs": [],
   "source": [
    "matrix = sortMatrixByRow(matrix)"
   ]
  },
  {
   "cell_type": "code",
   "execution_count": 14,
   "metadata": {},
   "outputs": [
    {
     "data": {
      "text/plain": [
       "[[0, 0, 1, 1, 4, 4, 4, 4, 5, 5],\n",
       " [0, 1, 1, 1, 2, 2, 2, 3, 3, 4],\n",
       " [0, 0, 0, 1, 1, 1, 2, 3, 5, 5],\n",
       " [1, 1, 1, 2, 2, 2, 2, 4, 4, 4],\n",
       " [1, 2, 2, 3, 3, 3, 5, 5, 5, 5],\n",
       " [0, 0, 1, 1, 1, 1, 2, 3, 3, 4],\n",
       " [0, 1, 1, 2, 2, 3, 3, 4, 4, 5],\n",
       " [0, 1, 1, 1, 2, 2, 2, 3, 4, 5],\n",
       " [0, 1, 2, 2, 3, 4, 4, 4, 5, 5],\n",
       " [0, 0, 1, 1, 1, 1, 2, 3, 5, 5]]"
      ]
     },
     "execution_count": 14,
     "metadata": {},
     "output_type": "execute_result"
    }
   ],
   "source": [
    "matrix"
   ]
  },
  {
   "cell_type": "markdown",
   "metadata": {},
   "source": [
    "# Step 3 - Transpose of the Matrix"
   ]
  },
  {
   "cell_type": "code",
   "execution_count": 15,
   "metadata": {},
   "outputs": [],
   "source": [
    "matrix_transposed = transposeMatrix(matrix)"
   ]
  },
  {
   "cell_type": "code",
   "execution_count": 16,
   "metadata": {},
   "outputs": [
    {
     "data": {
      "text/plain": [
       "[[0, 0, 0, 1, 1, 0, 0, 0, 0, 0],\n",
       " [0, 1, 0, 1, 2, 0, 1, 1, 1, 0],\n",
       " [1, 1, 0, 1, 2, 1, 1, 1, 2, 1],\n",
       " [1, 1, 1, 2, 3, 1, 2, 1, 2, 1],\n",
       " [4, 2, 1, 2, 3, 1, 2, 2, 3, 1],\n",
       " [4, 2, 1, 2, 3, 1, 3, 2, 4, 1],\n",
       " [4, 2, 2, 2, 5, 2, 3, 2, 4, 2],\n",
       " [4, 3, 3, 4, 5, 3, 4, 3, 4, 3],\n",
       " [5, 3, 5, 4, 5, 3, 4, 4, 5, 5],\n",
       " [5, 4, 5, 4, 5, 4, 5, 5, 5, 5]]"
      ]
     },
     "execution_count": 16,
     "metadata": {},
     "output_type": "execute_result"
    }
   ],
   "source": [
    "matrix_transposed"
   ]
  },
  {
   "cell_type": "markdown",
   "metadata": {},
   "source": [
    "# Step 4 - Finding the smallest COMMON element across all columns(if any)\n",
    "\n",
    "`NOTE :` \n",
    "\n",
    "If the above is -1, that means there is NO common elements across all the columns in the matirx"
   ]
  },
  {
   "cell_type": "code",
   "execution_count": 17,
   "metadata": {},
   "outputs": [],
   "source": [
    "smallest_comm_ele = getSmallestCommonNumber(matrix_transposed)"
   ]
  },
  {
   "cell_type": "code",
   "execution_count": 18,
   "metadata": {},
   "outputs": [
    {
     "name": "stdout",
     "output_type": "stream",
     "text": [
      "Smallest Common Element across all columns is : 1\n",
      "\n"
     ]
    }
   ],
   "source": [
    "print(f\"Smallest Common Element across all columns is : {smallest_comm_ele}\\n\")"
   ]
  },
  {
   "cell_type": "code",
   "execution_count": null,
   "metadata": {},
   "outputs": [],
   "source": []
  },
  {
   "cell_type": "code",
   "execution_count": null,
   "metadata": {},
   "outputs": [],
   "source": []
  }
 ],
 "metadata": {
  "kernelspec": {
   "display_name": "Python 3",
   "language": "python",
   "name": "python3"
  },
  "language_info": {
   "codemirror_mode": {
    "name": "ipython",
    "version": 3
   },
   "file_extension": ".py",
   "mimetype": "text/x-python",
   "name": "python",
   "nbconvert_exporter": "python",
   "pygments_lexer": "ipython3",
   "version": "3.8.3"
  }
 },
 "nbformat": 4,
 "nbformat_minor": 4
}
