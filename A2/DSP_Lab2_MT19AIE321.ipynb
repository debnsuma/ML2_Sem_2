{
 "cells": [
  {
   "cell_type": "markdown",
   "metadata": {},
   "source": [
    "# Rotate & Sort The List"
   ]
  },
  {
   "cell_type": "code",
   "execution_count": 1,
   "metadata": {},
   "outputs": [],
   "source": [
    "import sys"
   ]
  },
  {
   "cell_type": "code",
   "execution_count": 2,
   "metadata": {},
   "outputs": [],
   "source": [
    "class Node:\n",
    "    def __init__(self, key, next=None):\n",
    "        self.key = key\n",
    "        self.next = next \n",
    "\n",
    "class myLinkedList:\n",
    "    \n",
    "    # Starting point of the LinkedList\n",
    "    def __init__(self):\n",
    "        self.head = None \n",
    "        self.tail = None\n",
    "    \n",
    "    def insertBegining(self, key):\n",
    "        '''\n",
    "        For this problem its not needed, but just added\n",
    "        Since in thie problem is not needed, \"self.tail\" is not updated\n",
    "        '''\n",
    "        newNode = Node(key)\n",
    "        \n",
    "        if self.head == None:\n",
    "            self.head = newNode\n",
    "        else:\n",
    "            newNode.next = self.head \n",
    "            self.head = newNode\n",
    "    \n",
    "    def insertEnd(self, key):\n",
    "        \n",
    "        newNode = Node(key)\n",
    "        \n",
    "        if self.head != None:\n",
    "            current = self.head\n",
    "            \n",
    "            while current.next != None:\n",
    "                current = current.next\n",
    "            \n",
    "            current.next = newNode\n",
    "            self.tail = newNode\n",
    "        else:\n",
    "            self.head = newNode\n",
    "            self.tail = newNode\n",
    "            \n",
    "    def insertInplace(self, key, place):\n",
    "        '''\n",
    "        For this problem its not needed, but just added\n",
    "        Since in thie problem is not needed, \"self.tail\" is not updated\n",
    "        '''\n",
    "        total_element = self.length()\n",
    "        newNode = Node(key)\n",
    "        \n",
    "        # Check 0 - \"place\" position is not 0 \n",
    "        if place == 0:\n",
    "            print(\"Zero is not a valid position, enter any number starting from 1\")\n",
    "            sys.exit()\n",
    "            \n",
    "        # Check 1 - If the insertion is on the 1st place in an empty LinkedList\n",
    "        elif place == 1 and total_element == 0:\n",
    "            self.head = newNode\n",
    "        \n",
    "        # Check 2 - If we have a valide insertion position(< total no. of elements)\n",
    "        elif place > total_element:\n",
    "            print(f\"The LinkedList contains only : {total_element}, can not insert element at : {place} position\")\n",
    "            sys.exit()\n",
    "\n",
    "        # Check 3 - Add the element at \"place\" position in a non-empty LinkedList\n",
    "        elif place != 1:\n",
    "            position = 1 \n",
    "            current = self.head\n",
    "            while position != place-1:\n",
    "                current = current.next\n",
    "                position += 1\n",
    "\n",
    "            newNode.next = current.next\n",
    "            current.next = newNode\n",
    "\n",
    "        # Check 4 - If the insertion is on the 1st place in a non-empty LinkedList   \n",
    "        else:\n",
    "            newNode.next = self.head\n",
    "            self.head = newNode\n",
    "            \n",
    "    \n",
    "    def display(self, save=False):\n",
    "        \n",
    "        current = self.head\n",
    "        result = []\n",
    "        while current != None:\n",
    "            if not save:\n",
    "                print(current.key, end=\" \")\n",
    "            else:\n",
    "                result.append(current.key)\n",
    "            current = current.next\n",
    "        \n",
    "        return result\n",
    "            \n",
    "    def length(self):\n",
    "        total = 0\n",
    "        current = self.head\n",
    "        if self.head == None:\n",
    "            return 0\n",
    "        else:\n",
    "            while current.next != None:\n",
    "                current = current.next\n",
    "                total += 1\n",
    "        \n",
    "        return total+1\n",
    "    \n",
    "    def delete(self, element, LL2):\n",
    "        \n",
    "        total_element = self.length()\n",
    "        \n",
    "        # Check 1 - For empty LinkedList\n",
    "        if self.head == None:\n",
    "            print(\"LinkedList is Empty\")\n",
    "            \n",
    "            return LL2\n",
    "        \n",
    "        # Check 2 - Delete the 1st Node or Head Node\n",
    "        elif self.head.key == element:\n",
    "            temp = self.head\n",
    "            self.head = temp.next\n",
    "            temp = None\n",
    "            \n",
    "            if LL2 == None:\n",
    "                LL2 = myLinkedList()\n",
    "                LL2.insertEnd(element)\n",
    "            else:\n",
    "                LL2.insertEnd(element)\n",
    "\n",
    "            return LL2\n",
    "        \n",
    "        # Check 3 - For all other cases \n",
    "        else:   \n",
    "            current = self.head\n",
    "            count = 1\n",
    "            while current.next != None:\n",
    "                if current.next.key == element:\n",
    "                    temp = current.next\n",
    "                    current.next = temp.next\n",
    "                    temp = None\n",
    "                    \n",
    "                    if LL2 == None:\n",
    "                        LL2 = myLinkedList()\n",
    "                        LL2.insertEnd(element)\n",
    "                    else:\n",
    "                        LL2.insertEnd(element)                    \n",
    "                    \n",
    "                    return LL2\n",
    "                \n",
    "                else:\n",
    "                    current = current.next       \n",
    "            \n",
    "            print(\"Element not found in the list\")\n",
    "        \n",
    "        return LL2 \n",
    "            \n",
    "    def rotate_right(self):\n",
    "        \n",
    "        current_tail = self.tail\n",
    "        current = self.head\n",
    "        \n",
    "        self.head = self.tail\n",
    "        self.head.next = current\n",
    "        \n",
    "        while current.next != current_tail:\n",
    "            current = current.next\n",
    "        \n",
    "        self.tail = current\n",
    "        self.tail.next = None\n",
    "        \n",
    "    def rotate_left(self):\n",
    "    \n",
    "        old_head = self.head \n",
    "        \n",
    "        current_tail = self.tail\n",
    "        current = self.head\n",
    "        \n",
    "        self.head = self.head.next\n",
    "\n",
    "        \n",
    "        while current.next != current_tail:\n",
    "            current = current.next\n",
    "        \n",
    "        current = current.next\n",
    "        current.next = old_head\n",
    "        \n",
    "        self.tail = old_head\n",
    "        self.tail.next = None"
   ]
  },
  {
   "cell_type": "markdown",
   "metadata": {},
   "source": [
    "## Q1 Querry"
   ]
  },
  {
   "cell_type": "code",
   "execution_count": 3,
   "metadata": {},
   "outputs": [],
   "source": [
    "def q1(query1_num):\n",
    "    q1_que = []\n",
    "    for i in range(query1_num):\n",
    "        q = input()\n",
    "        q1_que.append(q)\n",
    "\n",
    "    print(\"*********** Q1 Output ************\")\n",
    "    LL = myLinkedList()\n",
    "    LL2 = None\n",
    "    for q in q1_que:\n",
    "        task, key = q.split()\n",
    "\n",
    "        if int(task) == 1:\n",
    "            LL.insertEnd(int(key))\n",
    "            LL.display()\n",
    "            print(\"\\n\")\n",
    "        elif int(task) == 2:\n",
    "            LL2 = LL.delete(int(key), LL2=LL2)            \n",
    "            LL.display()\n",
    "            print(\"\\n\")\n",
    "            \n",
    "    return LL, LL2"
   ]
  },
  {
   "cell_type": "markdown",
   "metadata": {},
   "source": [
    "## Q2 Query"
   ]
  },
  {
   "cell_type": "code",
   "execution_count": 4,
   "metadata": {},
   "outputs": [],
   "source": [
    "def q2(query2_num, LL=None):\n",
    "    q2_que = []\n",
    "    for i in range(query2_num):\n",
    "        q = input()\n",
    "        q2_que.append(int(q))\n",
    "        \n",
    "    print(\"*********** Q2 Output ************\")\n",
    "    for q in q2_que:\n",
    "        shift_by = abs(q)\n",
    "        \n",
    "        if q < 0:\n",
    "            for i in range(shift_by):\n",
    "                LL.rotate_left()\n",
    "            LL.display()\n",
    "            print(\"\\n\") \n",
    "        \n",
    "        if q > 0:\n",
    "            for i in range(shift_by):\n",
    "                LL.rotate_right()\n",
    "            LL.display()\n",
    "            print(\"\\n\")\n",
    "            \n",
    "        if q == 0:\n",
    "            LL.display()\n",
    "            print(\"\\n\")    \n",
    "    \n",
    "    return LL "
   ]
  },
  {
   "cell_type": "markdown",
   "metadata": {},
   "source": [
    "## Main Starts Here "
   ]
  },
  {
   "cell_type": "markdown",
   "metadata": {},
   "source": [
    "### Q1 Query"
   ]
  },
  {
   "cell_type": "code",
   "execution_count": 5,
   "metadata": {
    "scrolled": true
   },
   "outputs": [
    {
     "name": "stdout",
     "output_type": "stream",
     "text": [
      "Enter the number of queries of type Q1 :5\n",
      "1 2\n",
      "1 4\n",
      "1 6\n",
      "1 7\n",
      "2 4\n",
      "*********** Q1 Output ************\n",
      "2 \n",
      "\n",
      "2 4 \n",
      "\n",
      "2 4 6 \n",
      "\n",
      "2 4 6 7 \n",
      "\n",
      "2 6 7 \n",
      "\n"
     ]
    }
   ],
   "source": [
    "query1_num = input(\"Enter the number of queries of type Q1 :\")\n",
    "try:\n",
    "    query1_num = int(query1_num)\n",
    "except ValueError:\n",
    "    print(\"Please enter an Integer\")\n",
    "    sys.exit()\n",
    "\n",
    "LL, LL2 = q1(query1_num)"
   ]
  },
  {
   "cell_type": "markdown",
   "metadata": {},
   "source": [
    "### Q2 Query"
   ]
  },
  {
   "cell_type": "code",
   "execution_count": 6,
   "metadata": {},
   "outputs": [
    {
     "name": "stdout",
     "output_type": "stream",
     "text": [
      "Enter the number of queries of type Q2 :3\n",
      "1\n",
      "-1\n",
      "2\n",
      "*********** Q2 Output ************\n",
      "7 2 6 \n",
      "\n",
      "2 6 7 \n",
      "\n",
      "6 7 2 \n",
      "\n"
     ]
    }
   ],
   "source": [
    "query2_num = input(\"Enter the number of queries of type Q2 :\")\n",
    "try:\n",
    "    query2_num = int(query2_num)\n",
    "except ValueError:\n",
    "    print(\"Please enter an Integer\")\n",
    "    sys.exit()\n",
    "\n",
    "LL1 = q2(query2_num, LL)"
   ]
  },
  {
   "cell_type": "markdown",
   "metadata": {},
   "source": [
    "### Sorting (using Merge sort)"
   ]
  },
  {
   "cell_type": "markdown",
   "metadata": {},
   "source": [
    "TBD Merge sort with the two List LL1 and LL2 (Shall work on it tomorrow, after learning what Merge Sort is :))"
   ]
  },
  {
   "cell_type": "code",
   "execution_count": 7,
   "metadata": {},
   "outputs": [],
   "source": [
    "first_list = LL1.display(save=True)"
   ]
  },
  {
   "cell_type": "code",
   "execution_count": 8,
   "metadata": {},
   "outputs": [],
   "source": [
    "second_list = LL2.display(save=True)"
   ]
  },
  {
   "cell_type": "code",
   "execution_count": 9,
   "metadata": {},
   "outputs": [
    {
     "data": {
      "text/plain": [
       "[6, 7, 2]"
      ]
     },
     "execution_count": 9,
     "metadata": {},
     "output_type": "execute_result"
    }
   ],
   "source": [
    "first_list"
   ]
  },
  {
   "cell_type": "code",
   "execution_count": 10,
   "metadata": {},
   "outputs": [
    {
     "data": {
      "text/plain": [
       "[4]"
      ]
     },
     "execution_count": 10,
     "metadata": {},
     "output_type": "execute_result"
    }
   ],
   "source": [
    "second_list"
   ]
  },
  {
   "cell_type": "code",
   "execution_count": 11,
   "metadata": {},
   "outputs": [],
   "source": [
    "final_list = first_list + second_list"
   ]
  },
  {
   "cell_type": "code",
   "execution_count": 12,
   "metadata": {},
   "outputs": [
    {
     "data": {
      "text/plain": [
       "[6, 7, 2, 4]"
      ]
     },
     "execution_count": 12,
     "metadata": {},
     "output_type": "execute_result"
    }
   ],
   "source": [
    "final_list"
   ]
  },
  {
   "cell_type": "code",
   "execution_count": 15,
   "metadata": {},
   "outputs": [],
   "source": [
    "def merge(left, right, arr):\n",
    "    i, j = 0, 0\n",
    "    while i+j < len(arr):\n",
    "        if j == len(right) or (i < len(left) and left[i] < right[j]):\n",
    "            arr[i+j] = left[i]\n",
    "            i += 1\n",
    "        else:\n",
    "            arr[i+j] = right[j]\n",
    "            j += 1\n",
    "            \n",
    "def mergeSort(arr):\n",
    "    if len(arr) > 1:\n",
    "        mid = len(arr) // 2 \n",
    "        left = arr[:mid]\n",
    "        right = arr[mid:]\n",
    "        \n",
    "        mergeSort(left)\n",
    "        mergeSort(right)\n",
    "        merge(left, right, arr)"
   ]
  },
  {
   "cell_type": "code",
   "execution_count": 16,
   "metadata": {},
   "outputs": [],
   "source": [
    "mergeSort(final_list)"
   ]
  },
  {
   "cell_type": "code",
   "execution_count": 17,
   "metadata": {},
   "outputs": [
    {
     "data": {
      "text/plain": [
       "[2, 4, 6, 7]"
      ]
     },
     "execution_count": 17,
     "metadata": {},
     "output_type": "execute_result"
    }
   ],
   "source": [
    "final_list"
   ]
  },
  {
   "cell_type": "code",
   "execution_count": null,
   "metadata": {},
   "outputs": [],
   "source": []
  }
 ],
 "metadata": {
  "kernelspec": {
   "display_name": "Python 3",
   "language": "python",
   "name": "python3"
  },
  "language_info": {
   "codemirror_mode": {
    "name": "ipython",
    "version": 3
   },
   "file_extension": ".py",
   "mimetype": "text/x-python",
   "name": "python",
   "nbconvert_exporter": "python",
   "pygments_lexer": "ipython3",
   "version": "3.8.3"
  }
 },
 "nbformat": 4,
 "nbformat_minor": 4
}
